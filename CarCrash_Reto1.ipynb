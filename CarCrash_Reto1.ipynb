{
  "nbformat": 4,
  "nbformat_minor": 0,
  "metadata": {
    "colab": {
      "provenance": [],
      "authorship_tag": "ABX9TyOavykfvMc+2EGLslTZuOBb",
      "include_colab_link": true
    },
    "kernelspec": {
      "name": "python3",
      "display_name": "Python 3"
    },
    "language_info": {
      "name": "python"
    }
  },
  "cells": [
    {
      "cell_type": "markdown",
      "metadata": {
        "id": "view-in-github",
        "colab_type": "text"
      },
      "source": [
        "<a href=\"https://colab.research.google.com/github/MariaDaguer/Analitica-de-negocios/blob/main/CarCrash_Reto1.ipynb\" target=\"_parent\"><img src=\"https://colab.research.google.com/assets/colab-badge.svg\" alt=\"Open In Colab\"/></a>"
      ]
    },
    {
      "cell_type": "code",
      "execution_count": null,
      "metadata": {
        "id": "czGsgw2kfe8S"
      },
      "outputs": [],
      "source": []
    },
    {
      "cell_type": "markdown",
      "source": [
        "CAR CRASH"
      ],
      "metadata": {
        "id": "1A1OewnEjkpj"
      }
    },
    {
      "cell_type": "code",
      "source": [
        "import numpy as np\n",
        "import pandas as pd"
      ],
      "metadata": {
        "id": "tayVcxFNjm8m"
      },
      "execution_count": null,
      "outputs": []
    },
    {
      "cell_type": "code",
      "source": [
        "nxl=\"/content/1. BD2_CarCrash_Int.xlsx\"\n",
        "XDB=pd.read_excel(nxl, sheet_name=1)\n",
        "\n",
        "#Variables\n",
        "XDB=XDB[['Weekday','ViolCat','ClearWeather','Month','Crash Type','Highway','Daylight']]\n",
        "\n",
        "\n",
        "XD=XDB[['Weekday','ViolCat','ClearWeather','Month','Crash Type','Daylight']]\n",
        "yd=XDB[['Highway']]"
      ],
      "metadata": {
        "id": "ni3_CgMMjuFj"
      },
      "execution_count": null,
      "outputs": []
    },
    {
      "cell_type": "code",
      "source": [
        "from sklearn.naive_bayes import GaussianNB\n",
        "\n",
        "mnb=GaussianNB()\n",
        "mnb.fit(XD,yd)\n",
        "\n",
        "\n",
        "ct=mnb.class_count_\n",
        "print(\"Como están separados los datos\",ct) #accidentes en una autopista o no\n",
        "print(\"El total de los datos es:\",len(XD))\n",
        "print(\"Los datos porcentualmente están divididos en (No accidentes- accidentes en la autopista):\", ct/len(XD)) # % de accidentes en autopista o no\n",
        "\n",
        "\n",
        "# Se obtiene la información de los accidentes por categoría\n",
        "#las categorías son accidenten es la autopista o no en la autopista\n",
        "u=mnb.theta_\n",
        "print(\"La media de los accidentes por categoría es:\\n\",u)\n",
        "\n",
        "std=mnb.var_ # esto es varianza\n",
        "std=np.sqrt(std) #esto es desviación estándar\n",
        "print(\"La desviación estándar de los accidentes por categoría es:\\n\",std)\n",
        "\n",
        "# valores superiores e inferiores de los accidentes\n",
        "print(\"El limite superior de los valores:\\n\", u+std)\n",
        "print(\"El limite inferior de los valores:\\n\", u-std)\n",
        "\n",
        "\n"
      ],
      "metadata": {
        "colab": {
          "base_uri": "https://localhost:8080/"
        },
        "id": "SMlOXCKH-yLW",
        "outputId": "31506750-8f9e-401b-9988-f78b6a5e7619"
      },
      "execution_count": null,
      "outputs": [
        {
          "output_type": "stream",
          "name": "stdout",
          "text": [
            "Como están separados los datos [80539. 32121.]\n",
            "El total de los datos es: 112660\n",
            "Los datos porcentualmente están divididos en (No accidentes- accidentes en la autopista): [0.7148855 0.2851145]\n",
            "La media de los accidentes por categoría es:\n",
            " [[3.90307801 6.79464607 0.89238754 6.67500217 3.80866413 0.69460758]\n",
            " [3.92883161 4.45913888 0.86345382 6.68867719 3.49905047 0.69487251]]\n",
            "La desviación estándar de los accidentes por categoría es:\n",
            " [[1.93312956 3.60184338 0.30989035 3.36048976 1.49341633 0.46057345]\n",
            " [1.91313258 2.47514729 0.34336764 3.33713602 1.19979219 0.46046142]]\n",
            "El limite superior de los valores:\n",
            " [[ 5.83620757 10.39648945  1.20227789 10.03549193  5.30208046  1.15518103]\n",
            " [ 5.84196418  6.93428617  1.20682146 10.02581321  4.69884266  1.15533393]]\n",
            "El limite inferior de los valores:\n",
            " [[1.96994846 3.1928027  0.58249719 3.31451241 2.31524779 0.23403413]\n",
            " [2.01569903 1.98399159 0.52008618 3.35154117 2.29925827 0.2344111 ]]\n"
          ]
        },
        {
          "output_type": "stream",
          "name": "stderr",
          "text": [
            "/usr/local/lib/python3.11/dist-packages/sklearn/utils/validation.py:1408: DataConversionWarning: A column-vector y was passed when a 1d array was expected. Please change the shape of y to (n_samples, ), for example using ravel().\n",
            "  y = column_or_1d(y, warn=True)\n"
          ]
        }
      ]
    },
    {
      "cell_type": "code",
      "source": [
        "XS=[[5,1,1,3,4,0]]\n",
        "mnb.predict(XS)\n",
        "predecir= mnb.predict(XS)\n",
        "print(predecir)"
      ],
      "metadata": {
        "colab": {
          "base_uri": "https://localhost:8080/"
        },
        "id": "NWFKMhsqnY8d",
        "outputId": "9977bc44-1029-4d3d-fb5e-ec7e5ef64b4c"
      },
      "execution_count": null,
      "outputs": [
        {
          "output_type": "stream",
          "name": "stdout",
          "text": [
            "[0]\n"
          ]
        },
        {
          "output_type": "stream",
          "name": "stderr",
          "text": [
            "/usr/local/lib/python3.11/dist-packages/sklearn/utils/validation.py:2739: UserWarning: X does not have valid feature names, but GaussianNB was fitted with feature names\n",
            "  warnings.warn(\n",
            "/usr/local/lib/python3.11/dist-packages/sklearn/utils/validation.py:2739: UserWarning: X does not have valid feature names, but GaussianNB was fitted with feature names\n",
            "  warnings.warn(\n"
          ]
        }
      ]
    },
    {
      "cell_type": "code",
      "source": [
        "ydp=mnb.predict(XD)\n",
        "\n",
        "from sklearn.metrics import confusion_matrix\n",
        "cm=confusion_matrix(yd,ydp)\n",
        "print(cm)\n",
        "\n",
        "VN=cm[0,0];FP=cm[0,1];FN=cm[1,0];VP=cm[1,1]\n",
        "\n",
        "Ex=(VN+VP)/(VN+FP+FN+VP)\n",
        "print(\"La exactitud es:\",Ex)\n",
        "\n",
        "\n",
        "TE= (FN+VP)/(VN+FP+FN+VP)\n",
        "print(\"La tasa de error es:\",TE)\n",
        "\n",
        "\n",
        "Sen=VP/(VP+FN)\n",
        "print(\"La sensibilidad es:\",Sen)\n",
        "\n",
        "\n",
        "Esp=VN/(VN+FP)\n",
        "print(\"La especificidad es:\",Esp)\n",
        "\n",
        "\n",
        "Pre=VP/(VP+FP)\n",
        "print(\"La precisión es:\",Pre)\n",
        "\n",
        "Pren=VN/(VN+FN)\n",
        "print(\"La predicción negativa es:\",Pren)\n"
      ],
      "metadata": {
        "colab": {
          "base_uri": "https://localhost:8080/"
        },
        "id": "wCuddX1mMU8U",
        "outputId": "eff38431-8987-4c7a-ddfc-eb17b0af6d78"
      },
      "execution_count": null,
      "outputs": [
        {
          "output_type": "stream",
          "name": "stdout",
          "text": [
            "[[69410 11129]\n",
            " [21498 10623]]\n",
            "La exactitud es: 0.7103941061601278\n",
            "La tasa de error es: 0.2851145038167939\n",
            "La sensibilidad es: 0.3307182217241057\n",
            "La especificidad es: 0.8618184978705968\n",
            "La precisión es: 0.48836888561971314\n",
            "La predicción negativa es: 0.7635191622299468\n"
          ]
        }
      ]
    },
    {
      "cell_type": "markdown",
      "source": [
        "Análisis\n",
        "\n",
        "EL ejercicio de este análisis es predecir si un accidente automovilistico se produce o no en una autopista, para esto se consideraron variables como el día, mes, condiciones climáticas y lúminicas, tipo de accidente e impacto. Estas variables se condensaron en una base de datos con un total de 112.660 datos disponibles, que al ser categorizados se dividieron en un 28% para accidentes ocurridos en la autopista y un 72% para los que no, esto se traduce a un desequilibrio en los datos que puede conllevar a mayores imprecisiones en las predicciones; Por ejemplo, al observar la media de las distintas variables, se ven los valores superiores en la categoría de no accidentes, especialmente en variables como el nivel de impacto y el tipo de accidente.\n",
        "\n",
        "Al ejecutar este modelo, pudimos observar que tiene una baja sensibilidad (33%) y una alta especificidad(86%) lo que indica que el modelo es mejor al predecir los casos de no accidentes pero tiene dificultades para predecir accidentes. Cabe aclarar que modelo de Bayes posee una exactitud que supera el 70%, convirtiendolo por tanto, en una fuente ligeramente imprecisa pero aun así capáz."
      ],
      "metadata": {
        "id": "aXqgTR5vM1LQ"
      }
    }
  ]
}