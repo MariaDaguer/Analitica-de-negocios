{
  "nbformat": 4,
  "nbformat_minor": 0,
  "metadata": {
    "colab": {
      "provenance": [],
      "authorship_tag": "ABX9TyOSB2WsEULpcso4UnSGiuqZ",
      "include_colab_link": true
    },
    "kernelspec": {
      "name": "python3",
      "display_name": "Python 3"
    },
    "language_info": {
      "name": "python"
    }
  },
  "cells": [
    {
      "cell_type": "markdown",
      "metadata": {
        "id": "view-in-github",
        "colab_type": "text"
      },
      "source": [
        "<a href=\"https://colab.research.google.com/github/MariaDaguer/Analitica-de-negocios/blob/main/Parcial_arbol.ipynb\" target=\"_parent\"><img src=\"https://colab.research.google.com/assets/colab-badge.svg\" alt=\"Open In Colab\"/></a>"
      ]
    },
    {
      "cell_type": "code",
      "execution_count": null,
      "metadata": {
        "id": "UAG-hzw2llB_"
      },
      "outputs": [],
      "source": [
        "import numpy as np\n",
        "import pandas as pd\n",
        "from sklearn.tree import DecisionTreeClassifier\n",
        "from sklearn.metrics import confusion_matrix\n"
      ]
    },
    {
      "cell_type": "markdown",
      "source": [
        "Importar la base de datos y definir variables"
      ],
      "metadata": {
        "id": "noKXhe4fmVWG"
      }
    },
    {
      "cell_type": "code",
      "source": [
        "nxl='/content/4. BD1_Longitudinal Survey_L_Int.xlsx'\n",
        "\n",
        "XDB=pd.read_excel(nxl, sheet_name=0)\n",
        "XDB=XDB[['Age','Mother_Edu','Father_Edu','FamilySize','Self_Esteem','Height','Weight', 'Income','HealthPlan']]\n",
        "XDB.head(100)\n",
        "XDB=XDB.dropna()\n",
        "\n",
        "\n",
        "#Seleccionar las variables\n",
        "\n",
        "XD=np.array(XDB[['Age','Mother_Edu','Father_Edu','FamilySize','Self_Esteem','Height','Weight', 'Income']])\n",
        "yd=np.array(XDB[['HealthPlan']])"
      ],
      "metadata": {
        "id": "NblQqGXBmWLQ"
      },
      "execution_count": null,
      "outputs": []
    },
    {
      "cell_type": "markdown",
      "source": [
        "Modelo"
      ],
      "metadata": {
        "id": "ZReJw3v2mwUo"
      }
    },
    {
      "cell_type": "code",
      "source": [
        "mar=DecisionTreeClassifier(criterion='gini',max_depth=4) #gini\n",
        "mar.fit(XD,yd)\n",
        "\n",
        "#mar= modelo de arbol\n",
        "#max_depth: variables disponibles, profundidad (trabajar con este o menor número de varibales )\n",
        "#gini: es el criterio que indica el grado de error del modelo en la clasificación de solicitantes\n",
        "\n",
        "\n",
        "\n",
        "#despliegue\n",
        "\n",
        "from sklearn.tree import export_graphviz #exportar\n",
        "from pydotplus import graph_from_dot_data #crear el gráfico\n",
        "\n",
        "\n",
        "vs= ['Age','Mother_Edu','Father_Edu','FamilySize','Self_Esteem','Height','Weight', 'Income']\n",
        "\n",
        "\n",
        "#arbol\n",
        "dot_data=export_graphviz(mar, feature_names=vs)\n",
        "graph=graph_from_dot_data(dot_data)\n",
        "graph.write_png('1.Arbolparcial.png')\n",
        "\n"
      ],
      "metadata": {
        "colab": {
          "base_uri": "https://localhost:8080/"
        },
        "id": "Gkf9LCvumxAw",
        "outputId": "dacb8739-90b6-4902-cf6b-12163d3e6bff"
      },
      "execution_count": null,
      "outputs": [
        {
          "output_type": "execute_result",
          "data": {
            "text/plain": [
              "True"
            ]
          },
          "metadata": {},
          "execution_count": 39
        }
      ]
    },
    {
      "cell_type": "markdown",
      "source": [
        "Desempeño"
      ],
      "metadata": {
        "id": "4Ynd2PZjm3qI"
      }
    },
    {
      "cell_type": "code",
      "source": [
        "ydp=mar.predict(XD)\n",
        "\n",
        "cm=confusion_matrix(yd, ydp)\n",
        "print(cm)\n",
        "\n",
        "VN=cm[0,0];FP=cm[0,1]; FN=cm[1,0]; VP=cm[1,1]\n",
        "\n",
        "\n",
        "Exactitud=(VP+VN)/(VN+FP+FN+VP) # funcionamiento general del modelo\n",
        "print( 'la Exactitud es',Exactitud)\n",
        "\n",
        "Sensibilidad= VP/(VN+FN)\n",
        "print('La Sensibilidad es',Sensibilidad)\n",
        "\n",
        "\n",
        "Esp=VN/(VN+FP)\n",
        "print(\"La especificidad es:\",Esp)\n",
        "\n",
        "\n",
        "Pre=VP/(VP+FP)\n",
        "print(\"La precisión es:\",Pre)\n",
        "\n",
        "Pren=VN/(VN+FN)\n",
        "print(\"La predicción negativa es:\",Pren)\n",
        "\n",
        "\n",
        "TasaError=(FP+FN)/(VN+FP+FN+VP) #equivocación general\n",
        "print('la TasaError es', TasaError)\n",
        "\n",
        "TasaErrorPositivo=(FP/(FP+VP))\n",
        "print('la TasaErrorPositivo es', TasaErrorPositivo)\n",
        "\n",
        "PredNeg=(VN+FN)/(VN+FP+FN+VP) #como funciona el modelo negando créditos\n",
        "print('la TasaErrorPositivo es')\n"
      ],
      "metadata": {
        "colab": {
          "base_uri": "https://localhost:8080/"
        },
        "id": "c7Rl-v3Xm4Mw",
        "outputId": "27edafbb-ee20-48dd-9d4b-9c821311d39b"
      },
      "execution_count": null,
      "outputs": [
        {
          "output_type": "stream",
          "name": "stdout",
          "text": [
            "[[   3  850]\n",
            " [   0 5110]]\n",
            "la Exactitud es 0.8574543015260775\n",
            "La Sensibilidad es 1703.3333333333333\n",
            "La especificidad es: 0.0035169988276670576\n",
            "La precisión es: 0.8573825503355704\n",
            "La predicción negativa es: 1.0\n",
            "la TasaError es 0.1425456984739225\n",
            "la TasaErrorPositivo es 0.14261744966442952\n",
            "la TasaErrorPositivo es\n"
          ]
        }
      ]
    },
    {
      "cell_type": "markdown",
      "source": [
        "Análisis\n",
        "\n",
        "Para la implementación del modelo del Árbol de decisión, se tomaron 8 variables (económicas y sociodemográficas) además de una variable de salida que nos permite conocer si la persona evaluada posee o no un plan de salud, dando como resultado un total de 9 variables. Para la construcción del modelo se utilizó una base de datos de 12.686 datos a la que le aplicamos la función dropna para eliminar los datos faltantes y nos quedamos con 5963 datos, también utilizamos 4 niveles para la construcción del árbol.\n",
        "\n",
        "Después de la ejecución del modelo, podemos evidenciar una exactitud y precisión mayores al 85%, lo que nos dice que el modelo no solo tuvo un buen desempeño en general, sino que también logró categorizar adecuadamente a la mayoría de las personas que poseen plan de salud.\n"
      ],
      "metadata": {
        "id": "SDGCfS62Kbn0"
      }
    },
    {
      "cell_type": "code",
      "source": [
        "XS=[[18,12,12,5,28,71,180,48000]]\n",
        "mar.predict(XS)"
      ],
      "metadata": {
        "colab": {
          "base_uri": "https://localhost:8080/"
        },
        "id": "o-hf8yl4O0lT",
        "outputId": "7ef56520-249d-4938-ff0e-21bc2713af70"
      },
      "execution_count": null,
      "outputs": [
        {
          "output_type": "execute_result",
          "data": {
            "text/plain": [
              "array([1.])"
            ]
          },
          "metadata": {},
          "execution_count": 36
        }
      ]
    }
  ]
}